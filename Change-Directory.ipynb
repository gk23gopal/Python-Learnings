{
 "cells": [
  {
   "cell_type": "code",
   "execution_count": 14,
   "id": "ab17320c-a374-4d0a-b6b6-0cd6c4401b25",
   "metadata": {},
   "outputs": [
    {
     "name": "stdout",
     "output_type": "stream",
     "text": [
      "c:\\users\\meenakshi ganesh\\downloads\n",
      "\n",
      "c:\\users\\meenakshi ganesh\\downloads\n"
     ]
    }
   ],
   "source": [
    "import os\n",
    "def current_path():\n",
    "    os.chdir('c:/users/meenakshi ganesh/downloads')\n",
    "    print(os.getcwd())\n",
    "    print()\n",
    "current_path()\n",
    "print(os.getcwd())\n"
   ]
  },
  {
   "cell_type": "code",
   "execution_count": null,
   "id": "0f370a50-52d7-4b76-a087-90a24b7e7ec7",
   "metadata": {},
   "outputs": [],
   "source": []
  },
  {
   "cell_type": "code",
   "execution_count": null,
   "id": "3604e86d-9a72-4aea-bbf1-5854c4ac7124",
   "metadata": {},
   "outputs": [],
   "source": []
  }
 ],
 "metadata": {
  "kernelspec": {
   "display_name": "Python 3 (ipykernel)",
   "language": "python",
   "name": "python3"
  },
  "language_info": {
   "codemirror_mode": {
    "name": "ipython",
    "version": 3
   },
   "file_extension": ".py",
   "mimetype": "text/x-python",
   "name": "python",
   "nbconvert_exporter": "python",
   "pygments_lexer": "ipython3",
   "version": "3.9.13"
  }
 },
 "nbformat": 4,
 "nbformat_minor": 5
}
