{
 "cells": [
  {
   "cell_type": "code",
   "execution_count": 15,
   "id": "6399e06c-390b-4a5d-a56d-28829830aa7f",
   "metadata": {},
   "outputs": [
    {
     "name": "stdout",
     "output_type": "stream",
     "text": [
      "c:\\users\\meenakshi ganesh\\downloads\n",
      "\n",
      "c:\\users\\meenakshi ganesh\\downloads\n"
     ]
    }
   ],
   "source": [
    "# Import libraries\n",
    "# Import libraries\n",
    "# yfinance offers a reliable, threaded, and Pythonic way to download historical market data from Yahoo! finance\n",
    "# Please check out its official doc for details: https://pypi.org/project/yfinance/\n",
    "import yfinance as yf\n",
    "import pandas as pd\n",
    "import os\n",
    "\n",
    "# Load historical data in the past 10 years\n",
    "sp500 = yf.Ticker(\"^GSPC\")\n",
    "end_date = pd.Timestamp.today()\n",
    "start_date = end_date - pd.Timedelta(days=10*365)\n",
    "sp500_history=sp500.history(start=start_date, end=end_date)\n",
    "\n",
    "# Remove unnecessary columns\n",
    "sp500_history = sp500_history.drop(columns=['Dividends', 'Stock Splits'])\n",
    "\n",
    "# Create a new column as Close 200 days moving average\n",
    "sp500_history['Close_200ma'] = sp500_history['Close'].rolling(200).mean()\n",
    "\n",
    "# Create a summary statistics table\n",
    "sp500_history_summary = sp500_history.describe()\n",
    "\n",
    "sp500_history.index = sp500_history.index.map(lambda a: pd.to_datetime(a).date())\n",
    "\n",
    "from openpyxl.chart import LineChart, Reference\n",
    "\n",
    "def current_path():\n",
    "    os.chdir('c:/users/meenakshi ganesh/downloads')\n",
    "    print(os.getcwd())\n",
    "    print()\n",
    "current_path()\n",
    "print(os.getcwd())\n",
    "    \n",
    "# 1. Set up an ExcelWriter\n",
    "with pd.ExcelWriter('gk_excel_report.xlsx', engine='openpyxl') as writer:\n",
    "# 2. Export data\n",
    "    sp500_history.to_excel(writer, sheet_name='historical_data')\n",
    "    sp500_history_summary.to_excel(writer, sheet_name='historical_data_summary')\n",
    "    \n",
    "# 3. Add a line chart\n",
    "    # Point to the sheet 'historical_data', where the chart will be added\n",
    "    wb = writer.book \n",
    "    ws = wb['historical_data'] \n",
    "    # Grab the maximum row number in the sheet\n",
    "    max_row = ws.max_row\n",
    "    # Refer to the data of close and close_200ma by the range of rows and cols on the sheet\n",
    "    values_close = Reference(ws, min_col=5, min_row=1, max_col=5, max_row=max_row)\n",
    "    values_close_ma = Reference(ws, min_col=7, min_row=1, max_col=7, max_row=max_row)\n",
    "    # Refer to the date\n",
    "    dates = Reference(ws, min_col=1, min_row=2, max_col=1, max_row=max_row)\n",
    "    # Create a LineChart\n",
    "    chart = LineChart()\n",
    "    # Add data of close and close_ma to the chart\n",
    "    chart.add_data(values_close, titles_from_data=True)\n",
    "    chart.add_data(values_close_ma, titles_from_data=True)\n",
    "    # Set the dates as the x axis and format it\n",
    "    chart.set_categories(dates)\n",
    "    chart.x_axis.number_format = 'mmm-yy'\n",
    "    chart.x_axis.majorTimeUnit = 'days'\n",
    "    chart.x_axis.title = 'Date'\n",
    "    # Add title to the chart\n",
    "    chart.title = 'Close prices of S&P 500'\n",
    "    # Refer to close_ma data, which is with index 1 within the chart, and style it\n",
    "    s1 = chart.series[1]\n",
    "    s1.graphicalProperties.line.dashStyle = 'sysDot'\n",
    "    # Add the chart to the cell of G12 on the sheet ws\n",
    "    ws.add_chart(chart, 'G12')\n"
   ]
  },
  {
   "cell_type": "code",
   "execution_count": null,
   "id": "41ebdf70-a753-4d34-aaf8-8c6b3c0ebdbc",
   "metadata": {},
   "outputs": [],
   "source": []
  }
 ],
 "metadata": {
  "kernelspec": {
   "display_name": "Python 3 (ipykernel)",
   "language": "python",
   "name": "python3"
  },
  "language_info": {
   "codemirror_mode": {
    "name": "ipython",
    "version": 3
   },
   "file_extension": ".py",
   "mimetype": "text/x-python",
   "name": "python",
   "nbconvert_exporter": "python",
   "pygments_lexer": "ipython3",
   "version": "3.9.13"
  }
 },
 "nbformat": 4,
 "nbformat_minor": 5
}
